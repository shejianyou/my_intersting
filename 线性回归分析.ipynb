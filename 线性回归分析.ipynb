{
 "cells": [
  {
   "cell_type": "code",
   "execution_count": 2,
   "metadata": {},
   "outputs": [
    {
     "data": {
      "text/plain": [
       "[     Unnamed: 0  Pregnancies  Glucose  BloodPressure  SkinThickness  Insulin  \\\n",
       " 0           NaN            6      148             72             35        0   \n",
       " 1           NaN            1       85             66             29        0   \n",
       " 2           NaN            8      183             64              0        0   \n",
       " 3           NaN            1       89             66             23       94   \n",
       " 4           NaN            0      137             40             35      168   \n",
       " ..          ...          ...      ...            ...            ...      ...   \n",
       " 763         NaN           10      101             76             48      180   \n",
       " 764         NaN            2      122             70             27        0   \n",
       " 765         NaN            5      121             72             23      112   \n",
       " 766         NaN            1      126             60              0        0   \n",
       " 767         NaN            1       93             70             31        0   \n",
       " \n",
       "       BMI  DiabetesPedigreeFunction  Age  Outcome  \n",
       " 0    33.6                     0.627   50        1  \n",
       " 1    26.6                     0.351   31        0  \n",
       " 2    23.3                     0.672   32        1  \n",
       " 3    28.1                     0.167   21        0  \n",
       " 4    43.1                     2.288   33        1  \n",
       " ..    ...                       ...  ...      ...  \n",
       " 763  32.9                     0.171   63        0  \n",
       " 764  36.8                     0.340   27        0  \n",
       " 765  26.2                     0.245   30        0  \n",
       " 766  30.1                     0.349   47        1  \n",
       " 767  30.4                     0.315   23        0  \n",
       " \n",
       " [768 rows x 10 columns]]"
      ]
     },
     "execution_count": 2,
     "metadata": {},
     "output_type": "execute_result"
    }
   ],
   "source": [
    "import pandas as pd\n",
    "url = 'https://github.com/susanli2016/Machine-Learning-with-Python/blob/master/diabetes.csv'\n",
    "dfs = pd.read_html(url)\n",
    "dfs"
   ]
  },
  {
   "cell_type": "code",
   "execution_count": 85,
   "metadata": {},
   "outputs": [
    {
     "name": "stdout",
     "output_type": "stream",
     "text": [
      "第0个dataframe \n",
      "      Unnamed: 0  Pregnancies  Glucose  BloodPressure  SkinThickness  Insulin  \\\n",
      "0           NaN            6      148             72             35        0   \n",
      "1           NaN            1       85             66             29        0   \n",
      "2           NaN            8      183             64              0        0   \n",
      "3           NaN            1       89             66             23       94   \n",
      "4           NaN            0      137             40             35      168   \n",
      "..          ...          ...      ...            ...            ...      ...   \n",
      "763         NaN           10      101             76             48      180   \n",
      "764         NaN            2      122             70             27        0   \n",
      "765         NaN            5      121             72             23      112   \n",
      "766         NaN            1      126             60              0        0   \n",
      "767         NaN            1       93             70             31        0   \n",
      "\n",
      "      BMI  DiabetesPedigreeFunction  Age  Outcome  \n",
      "0    33.6                     0.627   50        1  \n",
      "1    26.6                     0.351   31        0  \n",
      "2    23.3                     0.672   32        1  \n",
      "3    28.1                     0.167   21        0  \n",
      "4    43.1                     2.288   33        1  \n",
      "..    ...                       ...  ...      ...  \n",
      "763  32.9                     0.171   63        0  \n",
      "764  36.8                     0.340   27        0  \n",
      "765  26.2                     0.245   30        0  \n",
      "766  30.1                     0.349   47        1  \n",
      "767  30.4                     0.315   23        0  \n",
      "\n",
      "[768 rows x 10 columns]\n"
     ]
    }
   ],
   "source": [
    "#把datafram调出来\n",
    "for i,df in enumerate(dfs):\n",
    "    print('第{0}个dataframe'.format(i),'\\n',df)\n"
   ]
  },
  {
   "cell_type": "code",
   "execution_count": 59,
   "metadata": {},
   "outputs": [
    {
     "name": "stdout",
     "output_type": "stream",
     "text": [
      "<class 'pandas.core.frame.DataFrame'>\n",
      "RangeIndex: 768 entries, 0 to 767\n",
      "Data columns (total 10 columns):\n",
      "Unnamed: 0                  0 non-null float64\n",
      "Pregnancies                 768 non-null int64\n",
      "Glucose                     768 non-null int64\n",
      "BloodPressure               768 non-null int64\n",
      "SkinThickness               768 non-null int64\n",
      "Insulin                     768 non-null int64\n",
      "BMI                         768 non-null float64\n",
      "DiabetesPedigreeFunction    768 non-null float64\n",
      "Age                         768 non-null int64\n",
      "Outcome                     768 non-null int64\n",
      "dtypes: float64(3), int64(7)\n",
      "memory usage: 60.1 KB\n"
     ]
    }
   ],
   "source": [
    "#查看表信息\n",
    "df.info()"
   ]
  },
  {
   "cell_type": "code",
   "execution_count": 5,
   "metadata": {},
   "outputs": [],
   "source": [
    "#Index(['Pregnancies', 'Glucose', 'BloodPressure', 'SkinThickness', 'Insulin','BMI', 'DiabetesPedigreeFunction', 'Age', 'Outcome'],dtype='object')\n",
    "#特征（怀孕次数，血糖，血压，皮脂厚度，胰岛素，BMI身体质量指数，糖尿病遗传函数，年龄，结果）"
   ]
  },
  {
   "cell_type": "code",
   "execution_count": 6,
   "metadata": {},
   "outputs": [],
   "source": [
    "#选数据\n",
    "df_01 = df[['Glucose','BMI']]\n",
    "glucose = df_01['Glucose']\n",
    "bmi = df_01['BMI']"
   ]
  },
  {
   "cell_type": "code",
   "execution_count": 7,
   "metadata": {},
   "outputs": [
    {
     "data": {
      "text/plain": [
       "<matplotlib.axes._subplots.AxesSubplot at 0x1d78d560f98>"
      ]
     },
     "execution_count": 7,
     "metadata": {},
     "output_type": "execute_result"
    },
    {
     "data": {
      "image/png": "[encoded data removed]",
      "text/plain": [
       "<Figure size 432x288 with 1 Axes>"
      ]
     },
     "metadata": {
      "needs_background": "light"
     },
     "output_type": "display_data"
    }
   ],
   "source": [
    "import matplotlib.pyplot as plt\n",
    "fig = plt.figure()\n",
    "ax1 = fig.add_subplot(1,1,1)\n",
    "ax1.scatter(glucose,bmi,label='?regreesion')\n",
    "ax1.set_title('the relation of Glucose and BMI')\n",
    "ax1.set_xlabel('Glucose')\n",
    "ax1.set_ylabel('BMI')\n",
    "ax1.legend(loc='best')\n",
    "ax1"
   ]
  },
  {
   "cell_type": "code",
   "execution_count": 41,
   "metadata": {},
   "outputs": [
    {
     "name": "stdout",
     "output_type": "stream",
     "text": [
      "[[33.6308155]]\n"
     ]
    }
   ],
   "source": [
    "from sklearn.linear_model import LinearRegression\n",
    "model = LinearRegression()\n",
    "train_glucose = [[i] for i in glucose][1:500]#血糖\n",
    "train_bmi = [[x] for x in bmi][1:500]#身体质量指数\n",
    "model.fit(train_glucose,train_bmi)#训练集数据放入模型中\n",
    "print(model.predict(np.array([149]).reshape(-1,1)))"
   ]
  },
  {
   "cell_type": "code",
   "execution_count": 54,
   "metadata": {},
   "outputs": [
    {
     "data": {
      "image/png": "[encoded data removed]",
      "text/plain": [
       "<Figure size 432x288 with 1 Axes>"
      ]
     },
     "metadata": {
      "needs_background": "light"
     },
     "output_type": "display_data"
    }
   ],
   "source": [
    "#使用测试数据整体对该模型进行预测\n",
    "test_glucose = [[i] for i in glucose][500:768]\n",
    "predict_bmi = model.predict(test_glucose) \n",
    "plt.plot(train_glucose,train_bmi,'k.')\n",
    "plt.plot(test_glucose,predict_bmi)\n",
    "#残差预测值\n",
    "yr = model.predict(train_glucose)\n",
    "for idx,x in enumerate(train_glucose):\n",
    "    plt.plot([x,x],[train_bmi[idx],yr[idx]],'r-')\n",
    "plt.grid(True)\n",
    "plt.xlabel('glucose')\n",
    "plt.ylabel('bmi')\n",
    "plt.title('the relation of the glucose and bmi')\n",
    "plt.show()"
   ]
  },
  {
   "cell_type": "code",
   "execution_count": 77,
   "metadata": {
    "scrolled": true
   },
   "outputs": [
    {
     "name": "stdout",
     "output_type": "stream",
     "text": [
      "R^2 = -5.75\n",
      "Coefficients=\n",
      " 0.10\n"
     ]
    }
   ],
   "source": [
    "test_bmi = [[i] for i in glucose][500:768]\n",
    "r2 = model.score(test_glucose,test_bmi)\n",
    "print('R^2 = %.2f'%r2)\n",
    "print('Coefficients=\\n %.2f'%(model.coef_))"
   ]
  },
  {
   "cell_type": "code",
   "execution_count": 78,
   "metadata": {},
   "outputs": [],
   "source": [
    "#(1)导入模型。调用逻辑回归LinearRegression()函数\n",
    "#(2)fit()训练。调用fit(x,y)的方法来训练模型，其中x为数据的属性，y为所属类型。\n",
    "#predict()预测。利用训练得到的模型对数据集进行预测，返回预测结果。"
   ]
  },
  {
   "cell_type": "code",
   "execution_count": 79,
   "metadata": {},
   "outputs": [],
   "source": [
    "#导入模型\n",
    "from sklearn.linear_model import LinearRegression\n",
    "from sklearn.metrics import *\n",
    "model = LinearRegression()\n",
    "train_Pregnancies = [[i] for i in df['Pregnancies']][1:500]#怀孕次数\n",
    "test_Pregnancies = [[i] for i in df['Pregnancies']][501:768]\n",
    "train_bmi = [[i] for i in df['BMI']][1:500]"
   ]
  },
  {
   "cell_type": "code",
   "execution_count": 80,
   "metadata": {},
   "outputs": [
    {
     "data": {
      "text/plain": [
       "LinearRegression(copy_X=True, fit_intercept=True, n_jobs=None, normalize=False)"
      ]
     },
     "execution_count": 80,
     "metadata": {},
     "output_type": "execute_result"
    }
   ],
   "source": [
    "model.fit(train_Pregnancies,train_bmi)"
   ]
  },
  {
   "cell_type": "code",
   "execution_count": 81,
   "metadata": {},
   "outputs": [
    {
     "name": "stdout",
     "output_type": "stream",
     "text": [
      "Coefficients:\n",
      " [[0.10483751]]\n"
     ]
    }
   ],
   "source": [
    "print('Coefficients:\\n',model.coef_)"
   ]
  },
  {
   "cell_type": "code",
   "execution_count": 82,
   "metadata": {},
   "outputs": [
    {
     "name": "stdout",
     "output_type": "stream",
     "text": [
      "Coefficient of determination: 0.00\n"
     ]
    }
   ],
   "source": [
    "print('Coefficient of determination: %.2f'% model.score(train_Pregnancies,train_bmi))"
   ]
  },
  {
   "cell_type": "code",
   "execution_count": null,
   "metadata": {},
   "outputs": [],
   "source": []
  },
  {
   "cell_type": "code",
   "execution_count": null,
   "metadata": {},
   "outputs": [],
   "source": []
  },
  {
   "cell_type": "code",
   "execution_count": null,
   "metadata": {},
   "outputs": [],
   "source": []
  },
  {
   "cell_type": "code",
   "execution_count": null,
   "metadata": {},
   "outputs": [],
   "source": []
  },
  {
   "cell_type": "code",
   "execution_count": null,
   "metadata": {},
   "outputs": [],
   "source": []
  },
  {
   "cell_type": "code",
   "execution_count": null,
   "metadata": {},
   "outputs": [],
   "source": []
  },
  {
   "cell_type": "code",
   "execution_count": null,
   "metadata": {},
   "outputs": [],
   "source": []
  },
  {
   "cell_type": "code",
   "execution_count": null,
   "metadata": {},
   "outputs": [],
   "source": []
  }
 ],
 "metadata": {
  "kernelspec": {
   "display_name": "Python 3",
   "language": "python",
   "name": "python3"
  },
  "language_info": {
   "codemirror_mode": {
    "name": "ipython",
    "version": 3
   },
   "file_extension": ".py",
   "mimetype": "text/x-python",
   "name": "python",
   "nbconvert_exporter": "python",
   "pygments_lexer": "ipython3",
   "version": "3.7.3"
  }
 },
 "nbformat": 4,
 "nbformat_minor": 2
}
